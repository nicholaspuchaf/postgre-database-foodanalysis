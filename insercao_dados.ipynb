{
 "cells": [
  {
   "cell_type": "markdown",
   "id": "0d994323",
   "metadata": {},
   "source": [
    "Esse arquivo não cria o banco de dados no postgre, ele assume que o banco foi criado a partir do PGAdmin, e foi utilizado tambem o arquivo ou modelo.sql para criar todas as tabelas, ou foi utilizado o arquivo modelo.pgrd para criar as tabelas. Ambas formas, devem dar o mesmo resultado.\n",
    "O objetivo deste notebook é inserir todos os dados do csv no banco do postgre.\n",
    "\n",
    "Na célula abaixo foi importadas as bibliotecas que serão utilizadas.\n",
    "Para rodar esse notebook, não se esqueça de criar um ambiente virtual e instalar a dependencias que estão em requirements.txt\n",
    "Pode utilizar pip install requirements.txt"
   ]
  },
  {
   "cell_type": "code",
   "execution_count": null,
   "id": "45c2e10f",
   "metadata": {
    "ExecuteTime": {
     "end_time": "2025-04-27T19:39:16.631307Z",
     "start_time": "2025-04-27T19:39:16.628269Z"
    }
   },
   "outputs": [],
   "source": [
    "import pandas as pd, numbers\n",
    "from sqlalchemy import create_engine, Column, Integer, String, ForeignKey, text\n",
    "from sqlalchemy.orm import relationship, Session, declarative_base\n",
    "from sqlalchemy.ext.automap import automap_base\n",
    "\n"
   ]
  },
  {
   "cell_type": "markdown",
   "id": "3ef16e7f",
   "metadata": {},
   "source": [
    "Aqui foi inicializado a conexao com o banco postgre em seu computador, por meio de uma conexao localhost.\n",
    "E tambem foram importadas o modelo das tabelas para que possa ser feita a inserção por meio do SQL_Alchemy"
   ]
  },
  {
   "cell_type": "code",
   "execution_count": null,
   "id": "85914dd9",
   "metadata": {
    "ExecuteTime": {
     "end_time": "2025-04-27T21:02:11.811912Z",
     "start_time": "2025-04-27T21:02:11.718147Z"
    }
   },
   "outputs": [
    {
     "name": "stderr",
     "output_type": "stream",
     "text": [
      "/tmp/ipykernel_14720/2349054361.py:12: SADeprecationWarning: The AutomapBase.prepare.reflect parameter is deprecated and will be removed in a future release.  Reflection is enabled when AutomapBase.prepare.autoload_with is passed.\n",
      "  Base.prepare(engine, reflect=True)\n"
     ]
    }
   ],
   "source": [
    "\n",
    "username = \"postgres\"\n",
    "senha = \"suasenha\" # aqui coloque sua senha do servidor postgre\n",
    "host= \"127.0.0.1\"\n",
    "nome_banco = \"projeto1v1\"\n",
    "\n",
    "string_conecta = f\"postgresql://{username}:{senha}@{host}/{nome_banco}\"\n",
    "\n",
    "engine = create_engine(string_conecta)\n",
    "\n",
    "Base = automap_base()\n",
    "Base.prepare(engine, reflect=True)\n",
    "\n",
    "Food = Base.classes.Food\n",
    "Animals = Base.classes.Animals\n",
    "Stocks = Base.classes.Stocks\n",
    "Production = Base.classes.Production\n",
    "Area_harvest = Base.classes.Area_harvest\n",
    "Area = Base.classes.Area\n",
    "\n",
    "session = Session(engine)"
   ]
  },
  {
   "cell_type": "markdown",
   "id": "346222c7d5dfc50",
   "metadata": {},
   "source": [
    "Lê os dados das comidas a partir do arquivo csv para inserir na tabela Food"
   ]
  },
  {
   "cell_type": "code",
   "execution_count": 12,
   "id": "c67481cd",
   "metadata": {
    "ExecuteTime": {
     "end_time": "2025-04-27T21:04:22.249053Z",
     "start_time": "2025-04-27T21:02:11.815920Z"
    }
   },
   "outputs": [
    {
     "name": "stderr",
     "output_type": "stream",
     "text": [
      "/tmp/ipykernel_14720/2918162328.py:5: DtypeWarning: Columns (13) have mixed types. Specify dtype option on import or set low_memory=False.\n",
      "  reader = pd.read_csv(input_path_Food,\n"
     ]
    }
   ],
   "source": [
    "input_path_Food = \"./crops_animals/crops_animals.csv\"\n",
    "\n",
    "cols = ['Area Code','Area Code (M49)','Area','Item Code','Item Code (CPC)','Item','Element Code','Element','Year Code','Year','Unit','Value','Flag','Note']\n",
    "\n",
    "reader = pd.read_csv(input_path_Food,\n",
    "                     delimiter=',')\n",
    "\n",
    "data = []\n",
    "counter = 0\n",
    "\n",
    "map = {}\n",
    "\n",
    "for _,item in reader.iterrows():\n",
    "    counter = counter + 1\n",
    "    obj_food = {'id_food':counter, 'code':item['Item Code'], 'code(cpc)':item['Item Code (CPC)'],'name':item['Item']}\n",
    "    \n",
    "    if(map.get(obj_food['name']) is None):\n",
    "        data.append(obj_food)\n",
    "        map[obj_food['name']] = counter\n",
    "\n",
    "\n"
   ]
  },
  {
   "cell_type": "markdown",
   "id": "cb782223",
   "metadata": {},
   "source": [
    "Realiza uma chamada no postgre atraves do bulk_insert para inserir todos os dados de uma vez, de acordo com a documentacao é mais eficiente do que chamar uma linha de insert por dado"
   ]
  },
  {
   "cell_type": "code",
   "execution_count": 13,
   "id": "5cd631c3",
   "metadata": {
    "ExecuteTime": {
     "end_time": "2025-04-27T21:04:22.305124Z",
     "start_time": "2025-04-27T21:04:22.270794Z"
    }
   },
   "outputs": [],
   "source": [
    "Food = Base.classes.Food\n",
    "try:\n",
    "    session.bulk_insert_mappings(Food,data)\n",
    "    session.commit()\n",
    "except Exception as e:\n",
    "    print(\"Erro ao fazer bulk insert mappings : \", e)\n",
    "    session.rollback()\n"
   ]
  },
  {
   "cell_type": "markdown",
   "id": "cc80c136",
   "metadata": {},
   "source": [
    "Lê os dados dos aniamis a partir do arquivo csv para inserir na tabela Animals"
   ]
  },
  {
   "cell_type": "code",
   "execution_count": null,
   "id": "f8e680ec",
   "metadata": {},
   "outputs": [
    {
     "name": "stderr",
     "output_type": "stream",
     "text": [
      "/tmp/ipykernel_14720/1026636154.py:3: DtypeWarning: Columns (13) have mixed types. Specify dtype option on import or set low_memory=False.\n",
      "  reader = pd.read_csv(input_path,\n"
     ]
    }
   ],
   "source": [
    "input_path = './data/crops_animals/crops_animals.csv'\n",
    "cols = ['Area Code','Area Code (M49)','Area','Item Code','Item Code (CPC)','Item','Element Code','Element','Year Code','Year','Unit','Value','Flag','Note']\n",
    "reader = pd.read_csv(input_path, \n",
    "                    delimiter=',')\n",
    "\n",
    "data_animals = []\n",
    "counter_animals = 0\n",
    "map_animals = {}\n",
    "\n",
    "for _,item in reader.iterrows():\n",
    "\n",
    "    if item['Element Code'] == 5111 or item['Element Code'] == 5112 or item['Element Code'] == 5114:\n",
    "        obj_animals = {'id_animals':counter_animals, 'code':item['Item Code'], 'code(cpc)':item['Item Code (CPC)'], 'name':item['Item']}\n",
    "        \n",
    "        if(map_animals.get(obj_animals['name']) == None):\n",
    "            counter_animals = counter_animals + 1\n",
    "\n",
    "            if item['Unit'] == None or  isinstance(item['Unit'], numbers.Number):\n",
    "                obj_animals['unit'] = 0\n",
    "\n",
    "            data_animals.append(obj_animals)\n",
    "            map_animals[obj_animals['name']] = obj_animals['id_animals']\n",
    "\n",
    "                \n"
   ]
  },
  {
   "cell_type": "markdown",
   "id": "dd614a84",
   "metadata": {},
   "source": [
    "Realiza chamada no postgre para inserir os animais"
   ]
  },
  {
   "cell_type": "code",
   "execution_count": 15,
   "id": "582ecc8a",
   "metadata": {},
   "outputs": [],
   "source": [
    "try:\n",
    "    session.bulk_insert_mappings(Animals,data_animals)\n",
    "    session.commit()\n",
    "    data_animals = []\n",
    "except Exception as e:\n",
    "    print(\"Erro ao fazer bulk insert mappings dos Animals : \", e)\n",
    "    session.rollback()\n"
   ]
  },
  {
   "cell_type": "markdown",
   "id": "bd1cdfcd",
   "metadata": {},
   "source": [
    "Lê os dados das Areas dos 3 arquivos csv, é a tabela com as informações que mais se cruzam entre todas as tabelas, por isso há um tratamento maior dos dados."
   ]
  },
  {
   "cell_type": "code",
   "execution_count": null,
   "id": "382468dc",
   "metadata": {},
   "outputs": [
    {
     "name": "stderr",
     "output_type": "stream",
     "text": [
      "/tmp/ipykernel_14720/1167144110.py:4: DtypeWarning: Columns (13) have mixed types. Specify dtype option on import or set low_memory=False.\n",
      "  reader = pd.read_csv(input_path,\n",
      "/tmp/ipykernel_14720/1167144110.py:20: DtypeWarning: Columns (12) have mixed types. Specify dtype option on import or set low_memory=False.\n",
      "  reader = pd.read_csv(input_path, delimiter=',', skipinitialspace=True, encoding='latin1')\n"
     ]
    }
   ],
   "source": [
    "input_path = \"./data/crops_animals/crops_animals.csv\"\n",
    "\n",
    "cols = ['Area Code','Area Code (M49)','Area','Item Code','Item Code (CPC)','Item','Element Code','Element','Year Code','Year','Unit','Value','Flag','Note']\n",
    "reader = pd.read_csv(input_path,\n",
    "                     delimiter=',', skipinitialspace=True)\n",
    "\n",
    "data_area = []\n",
    "counter_area = 0\n",
    "map_area = {}\n",
    "\n",
    "for _,item in reader.iterrows():\n",
    "\n",
    "    if(map_area.get(item['Area']) is None):\n",
    "        obj_area = {'id_area':counter_area, 'code':item['Area Code'], 'country':item['Area']}\n",
    "        map_area[item['Area']] = obj_area['id_area']\n",
    "        counter_area = counter_area + 1\n",
    "        data_area.append(obj_area)\n",
    "\n",
    "input_path = \"./fertilizers/fertilizers.csv\"\n",
    "reader = pd.read_csv(input_path, delimiter=',', skipinitialspace=True, encoding='latin1')\n",
    "\n",
    "for _,item in reader.iterrows():\n",
    "\n",
    "    if(map_area.get(item['Area']) is None):\n",
    "        obj_area = {'id_area':counter_area, 'code':item['Area Code'], 'country':item['Area']}\n",
    "        map_area[item['Area']] = obj_area['id_area']\n",
    "        counter_area = counter_area + 1\n",
    "        data_area.append(obj_area)\n",
    "\n",
    "\n",
    "input_path = \"./emission/emission.csv\"\n",
    "reader = pd.read_csv(input_path, delimiter=',', skipinitialspace=True, encoding='latin1')\n",
    "\n",
    "for _,item in reader.iterrows():\n",
    "\n",
    "    if(map_area.get(item['Area']) is None):\n",
    "        obj_area = {'id_area':counter_area, 'code':item['Area Code'], 'country':item['Area']}\n",
    "        map_area[item['Area']] = obj_area['id_area']\n",
    "        counter_area = counter_area + 1\n",
    "        data_area.append(obj_area)\n"
   ]
  },
  {
   "cell_type": "markdown",
   "id": "70c55c5e",
   "metadata": {},
   "source": [
    "Realiza chamada no postgre para inserir as Áreas"
   ]
  },
  {
   "cell_type": "code",
   "execution_count": 17,
   "id": "213d6e27",
   "metadata": {},
   "outputs": [],
   "source": [
    "Area = Base.classes.Area\n",
    "try:\n",
    "    session.bulk_insert_mappings(Area,data_area)\n",
    "    session.commit()\n",
    "    data_area = []\n",
    "except Exception as e:\n",
    "    print(\"Erro ao fazer bulk insert mappings dos Area : \", e)\n",
    "    session.rollback()"
   ]
  },
  {
   "cell_type": "markdown",
   "id": "bfa8dca1",
   "metadata": {},
   "source": [
    "Lê os dados da criação de animais a partir do arquivo csv para inserir na tabela Stocks (traducao seria estoque de animais)"
   ]
  },
  {
   "cell_type": "code",
   "execution_count": null,
   "id": "af4f766a",
   "metadata": {},
   "outputs": [
    {
     "name": "stderr",
     "output_type": "stream",
     "text": [
      "/tmp/ipykernel_14720/951022557.py:3: DtypeWarning: Columns (13) have mixed types. Specify dtype option on import or set low_memory=False.\n",
      "  reader = pd.read_csv(input_path,\n"
     ]
    }
   ],
   "source": [
    "input_path = './data/crops_animals/crops_animals.csv'\n",
    "cols = ['Area Code','Area Code (M49)','Area','Item Code','Item Code (CPC)','Item','Element Code','Element','Year Code','Year','Unit','Value','Flag','Note']\n",
    "reader = pd.read_csv(input_path, \n",
    "                    delimiter=',')\n",
    "\n",
    "data_stocks = []\n",
    "counter_stocks = 0\n",
    "map_stocks = {}\n",
    "\n",
    "for _,item in reader.iterrows():\n",
    "\n",
    "    if item['Element Code'] == 5111 or item['Element Code'] == 5112 or item['Element Code'] == 5114:\n",
    "        counter_stocks = counter_stocks + 1\n",
    "        obj_stocks = {'id_stocks':counter_stocks, 'year':item['Year'], 'unit':item['Unit'], 'value':item['Value'], 'id_animals':map_animals[item['Item']], 'id_area':map_area[item['Area']]}\n",
    "        \n",
    "        if(obj_stocks['unit'] == '1000 An' or obj_stocks['unit'] == '1000 No'):\n",
    "            obj_stocks['value'] *= 1000\n",
    "            if(obj_stocks['unit'] == '1000 An'):\n",
    "                obj_stocks['unit'] = 'An'\n",
    "            if(obj_stocks['unit'] == '1000 No'):\n",
    "                obj_stocks['unit'] = 'No'\n",
    "\n",
    "        data_stocks.append(obj_stocks)\n",
    "        \n"
   ]
  },
  {
   "cell_type": "markdown",
   "id": "a698adbb",
   "metadata": {},
   "source": [
    "Realiza chamada no banco para inserir os Stocks, há esse linhas de DELETE porque havia dados de todos os animais juntos: Meat, Total que é um dado derivado, contra a 3 Forma Normalizada, e também traria erros as consultas. E também retiramos eventuais dados que não foram preenchidos com NULL no csv."
   ]
  },
  {
   "cell_type": "code",
   "execution_count": null,
   "id": "43acc121",
   "metadata": {},
   "outputs": [
    {
     "name": "stdout",
     "output_type": "stream",
     "text": [
      "Erro ao fazer bulk insert mappings dos Stocks :  Textual SQL expression 'DELETE FROM \"Stocks\" WHER...' should be explicitly declared as text('DELETE FROM \"Stocks\" WHER...')\n"
     ]
    }
   ],
   "source": [
    "try:\n",
    "    session.bulk_insert_mappings(Stocks,data_stocks)\n",
    "    session.commit()\n",
    "    data_stocks = []\n",
    "    session.execute(text('DELETE FROM \"Stocks\" WHERE id_animals=21'))    \n",
    "    session.commit()\n",
    "    session.execute(text('DELETE FROM \"Animals\" WHERE name=\"Meat, Total\"'))\n",
    "    session.commit()\n",
    "    session.execute(text('DELETE FROM \"Stocks\" WHERE value=\"NaN\"'))\n",
    "    session.commit()\n",
    "\n",
    "except Exception as e:\n",
    "    print(\"Erro ao fazer bulk insert mappings dos Stocks : \", e)\n",
    "    session.rollback()"
   ]
  },
  {
   "cell_type": "markdown",
   "id": "735850db",
   "metadata": {},
   "source": [
    "Lê os dados da producao de alimentos a partir do arquivo csv para inserir na tabela Production"
   ]
  },
  {
   "cell_type": "code",
   "execution_count": null,
   "id": "9fc9c6cb",
   "metadata": {},
   "outputs": [
    {
     "name": "stderr",
     "output_type": "stream",
     "text": [
      "/tmp/ipykernel_14720/468031748.py:3: DtypeWarning: Columns (13) have mixed types. Specify dtype option on import or set low_memory=False.\n",
      "  reader = pd.read_csv(input_path,\n"
     ]
    }
   ],
   "source": [
    "input_path = './data/crops_animals/crops_animals.csv'\n",
    "cols = ['Area Code','Area Code (M49)','Area','Item Code','Item Code (CPC)','Item','Element Code','Element','Year Code','Year','Unit','Value','Flag','Note']\n",
    "reader = pd.read_csv(input_path, \n",
    "                    delimiter=',')\n",
    "\n",
    "data_production = []\n",
    "counter_production = 0\n",
    "map_production = {}\n",
    "\n",
    "for _,item in reader.iterrows():\n",
    "\n",
    "    if item['Element Code'] == 5322 or item['Element Code'] == 5323 or item['Element Code'] == 5510 or item['Element Code'] == 5513:\n",
    "        counter_production = counter_production + 1\n",
    "        obj_production = {'id_production':counter_production, 'year':item['Year'], 'unit':item['Unit'], 'value':item['Value'], 'id_food':map[item['Item']], 'id_area':map_area[item['Area']]}\n",
    "        if item['Unit'] == None or  isinstance(item['Unit'], numbers.Number):\n",
    "            obj_production['unit'] = 0\n",
    "        if item['Unit'] == \"1000 No\":\n",
    "            obj_production['value'] *= 0.1\n",
    "            item['Unit'] = 't'\n",
    "        data_production.append(obj_production)\n",
    "        \n"
   ]
  },
  {
   "cell_type": "markdown",
   "id": "e3a7f18d",
   "metadata": {},
   "source": [
    "Realiza chamada para inserir producation no postgre"
   ]
  },
  {
   "cell_type": "code",
   "execution_count": null,
   "id": "7318e440",
   "metadata": {},
   "outputs": [],
   "source": [
    "try:\n",
    "    session.bulk_insert_mappings(Production,data_production)\n",
    "    session.commit()\n",
    "    session.execute(text('DELETE FROM \"Production\" WHERE value=\"NaN\"'))\n",
    "    session.commit()\n",
    "    data_production = []\n",
    "except Exception as e:\n",
    "    print(\"Erro ao fazer bulk insert mappings dos Production : \", e)\n",
    "    session.rollback()\n"
   ]
  },
  {
   "cell_type": "markdown",
   "id": "160e59b5",
   "metadata": {},
   "source": [
    "Lê os dados da area utilizada do arquivo csv para inserir na tabela Area_harvest "
   ]
  },
  {
   "cell_type": "code",
   "execution_count": null,
   "id": "b2c075cc",
   "metadata": {},
   "outputs": [
    {
     "name": "stderr",
     "output_type": "stream",
     "text": [
      "/tmp/ipykernel_14720/3859528264.py:3: DtypeWarning: Columns (13) have mixed types. Specify dtype option on import or set low_memory=False.\n",
      "  reader = pd.read_csv(input_path,\n"
     ]
    }
   ],
   "source": [
    "input_path = './data/crops_animals/crops_animals.csv'\n",
    "cols = ['Area Code','Area Code (M49)','Area','Item Code','Item Code (CPC)','Item','Element Code','Element','Year Code','Year','Unit','Value','Flag','Note']\n",
    "reader = pd.read_csv(input_path, \n",
    "                    delimiter=',')\n",
    "\n",
    "data_area_harvested = []\n",
    "counter_area_harvested = 0\n",
    "map_area_harvested = {}\n",
    "\n",
    "for _,item in reader.iterrows():\n",
    "\n",
    "    if item['Element Code'] == 5312:\n",
    "        counter_area_harvested = counter_area_harvested + 1\n",
    "        obj_area_harvest = {'id_area_harvest':counter_area_harvested, 'year':item['Year'], 'scale':item['Unit'], 'value':item['Value'], 'id_food':map[item['Item']], 'id_area':map_area[item['Area']]}\n",
    "        data_area_harvested.append(obj_area_harvest)\n",
    "        \n"
   ]
  },
  {
   "cell_type": "markdown",
   "id": "afd539c1",
   "metadata": {},
   "source": [
    "Realiza chamada para inserir no postgre"
   ]
  },
  {
   "cell_type": "code",
   "execution_count": 23,
   "id": "97d273cf",
   "metadata": {},
   "outputs": [],
   "source": [
    "try:\n",
    "    session.bulk_insert_mappings(Area_harvest,data_area_harvested)\n",
    "    session.commit()\n",
    "    data_area_harvested = []\n",
    "except Exception as e:\n",
    "    print(\"Erro ao fazer bulk insert mappings dos Area Harvest : \", e)\n",
    "    session.rollback()\n"
   ]
  },
  {
   "cell_type": "markdown",
   "id": "65fe196f",
   "metadata": {},
   "source": [
    "Lê os dados dos gases do arquivo csv para inserir na tabela Gases"
   ]
  },
  {
   "cell_type": "code",
   "execution_count": null,
   "id": "f1ee849db946b620",
   "metadata": {
    "ExecuteTime": {
     "end_time": "2025-04-27T21:15:38.838111Z",
     "start_time": "2025-04-27T21:15:38.562418Z"
    }
   },
   "outputs": [],
   "source": [
    "input_path = \"./data/emission/emission_elements.csv\"\n",
    "reader = pd.read_csv(input_path,\n",
    "                     delimiter=',', skipinitialspace=True)\n",
    "\n",
    "data_Gases = []\n",
    "counter_Gases = 0\n",
    "map_Gases_id = {}\n",
    "for _,item in reader.iterrows():\n",
    "\n",
    "    if(item['Element Code'] not in map_Gases_id):\n",
    "        obj_area = {'id_gases':counter_Gases, 'code':item['Element Code'], 'name':item['Element']}\n",
    "        map_Gases_id[item['Element Code']] = counter_Gases\n",
    "        counter_Gases = counter_Gases + 1\n",
    "        data_Gases.append(obj_area)\n",
    "\n",
    "\n"
   ]
  },
  {
   "cell_type": "markdown",
   "id": "6b9bd9f2",
   "metadata": {},
   "source": [
    "Realiza chamada no postgre para inserir gases"
   ]
  },
  {
   "cell_type": "code",
   "execution_count": 27,
   "id": "2f5d32dc73c2dbef",
   "metadata": {
    "ExecuteTime": {
     "end_time": "2025-04-27T21:15:38.847814Z",
     "start_time": "2025-04-27T21:15:38.842124Z"
    }
   },
   "outputs": [],
   "source": [
    "Gases = Base.classes.Gases\n",
    "try:\n",
    "    session.bulk_insert_mappings(Gases,data_Gases)\n",
    "    session.commit()\n",
    "    data_Gases = []\n",
    "except Exception as e:\n",
    "    print(\"Erro ao fazer bulk insert mappings dos Gases : \", e)\n",
    "    session.rollback()"
   ]
  },
  {
   "cell_type": "markdown",
   "id": "640c63d2b3af5ab9",
   "metadata": {},
   "source": [
    "Lê os dados dos Residuos do arquivo csv para inserir na tabela Residue "
   ]
  },
  {
   "cell_type": "code",
   "execution_count": null,
   "id": "a1ba06db57ef109a",
   "metadata": {
    "ExecuteTime": {
     "end_time": "2025-04-27T21:16:47.428890Z",
     "start_time": "2025-04-27T21:15:38.856834Z"
    }
   },
   "outputs": [],
   "source": [
    "input_path = \"./data/emission/emission.csv\"\n",
    "\n",
    "reader = pd.read_csv(input_path,\n",
    "                     delimiter=',', skipinitialspace=True)\n",
    "\n",
    "data_Residue = []\n",
    "counter_Residue = 0\n",
    "map_Residue_id = {}\n",
    "for _,item in reader.iterrows():\n",
    "\n",
    "    if(item['Item Code'] not in map_Residue_id):\n",
    "        obj_area = {'id_residue':counter_Residue, 'code':item['Item Code'], 'name':item['Item']}\n",
    "        map_Residue_id[item['Item Code']] = counter_Residue\n",
    "        counter_Residue = counter_Residue + 1\n",
    "        data_Residue.append(obj_area)\n",
    "\n",
    "\n"
   ]
  },
  {
   "cell_type": "markdown",
   "id": "4d390023",
   "metadata": {},
   "source": [
    "Realiza chamada no postgre para inserir os residuso"
   ]
  },
  {
   "cell_type": "code",
   "execution_count": 29,
   "id": "b67e54d5052236cf",
   "metadata": {
    "ExecuteTime": {
     "end_time": "2025-04-27T21:16:47.455941Z",
     "start_time": "2025-04-27T21:16:47.449566Z"
    }
   },
   "outputs": [],
   "source": [
    "Residue = Base.classes.Residue\n",
    "try:\n",
    "    session.bulk_insert_mappings(Residue,data_Residue)\n",
    "    session.commit()\n",
    "    data_Residue = []\n",
    "except Exception as e:\n",
    "    print(\"Erro ao fazer bulk insert mappings dos Residue : \", e)\n",
    "    session.rollback()"
   ]
  },
  {
   "cell_type": "markdown",
   "id": "6ca1b8e0992468b1",
   "metadata": {},
   "source": [
    "Lê os dados dos Fertilizantes do arquivo csv para inserir na tabela Fertilizers"
   ]
  },
  {
   "cell_type": "code",
   "execution_count": null,
   "id": "1fb75a452d5cc830",
   "metadata": {
    "ExecuteTime": {
     "end_time": "2025-04-27T21:16:54.408725Z",
     "start_time": "2025-04-27T21:16:47.461949Z"
    }
   },
   "outputs": [
    {
     "name": "stderr",
     "output_type": "stream",
     "text": [
      "/tmp/ipykernel_14720/165871410.py:2: DtypeWarning: Columns (12) have mixed types. Specify dtype option on import or set low_memory=False.\n",
      "  reader = pd.read_csv(input_path,\n"
     ]
    }
   ],
   "source": [
    "input_path = \"./data/fertilizers/fertilizers.csv\"\n",
    "reader = pd.read_csv(input_path,\n",
    "                     delimiter=',', skipinitialspace=True, encoding= 'latin1')\n",
    "\n",
    "data_fertilizer = []\n",
    "counter_fertilizer = 0\n",
    "map_fertilizer_id = {}\n",
    "for _,item in reader.iterrows():\n",
    "\n",
    "    if(item['Item Code'] not in map_fertilizer_id):\n",
    "        obj_area = {'id_fertilizer':counter_fertilizer, 'code':item['Item Code'], 'name':item['Item']}\n",
    "        map_fertilizer_id[item['Item Code']] = counter_fertilizer\n",
    "        counter_fertilizer = counter_fertilizer + 1\n",
    "        data_fertilizer.append(obj_area)\n",
    "\n",
    "\n"
   ]
  },
  {
   "cell_type": "markdown",
   "id": "1372ab74",
   "metadata": {},
   "source": [
    "Realiza chamada no postgre para inserir fertilizantes"
   ]
  },
  {
   "cell_type": "code",
   "execution_count": 31,
   "id": "57cfbcbf7fa754ca",
   "metadata": {
    "ExecuteTime": {
     "end_time": "2025-04-27T21:16:54.426489Z",
     "start_time": "2025-04-27T21:16:54.421551Z"
    }
   },
   "outputs": [],
   "source": [
    "Fertilizer = Base.classes.Fertilizer\n",
    "try:\n",
    "    session.bulk_insert_mappings(Fertilizer,data_fertilizer)\n",
    "    session.commit()\n",
    "    data_fertilizer = []\n",
    "except Exception as e:\n",
    "    print(\"Erro ao fazer bulk insert mappings dos Fertilizer : \", e)\n",
    "    session.rollback()"
   ]
  },
  {
   "cell_type": "markdown",
   "id": "460b90eeab3c134c",
   "metadata": {},
   "source": [
    "Lê os dados das Emissoes utilizada do arquivo csv para inserir na tabela Emissions "
   ]
  },
  {
   "cell_type": "code",
   "execution_count": null,
   "id": "6b9bdf0f9cc5516a",
   "metadata": {
    "ExecuteTime": {
     "end_time": "2025-04-27T21:26:03.181180Z",
     "start_time": "2025-04-27T21:24:32.150038Z"
    }
   },
   "outputs": [],
   "source": [
    "input_path = \"./data/emission/emission.csv\"\n",
    "reader = pd.read_csv(input_path,\n",
    "                     delimiter=',', skipinitialspace=True)\n",
    "\n",
    "data_emission = []\n",
    "counter_emission = 0\n",
    "\n",
    "for _, item in reader.iterrows():\n",
    "    data_emission.append({'id_emissions':counter_emission, 'year':item['Year'], 'unit':item['Unit'], 'value':item['Value'], 'id_residue':map_Residue_id[item['Item Code']],'id_gases':map_Gases_id[item['Element Code']], 'id_area': map_area[item['Area']]})\n",
    "    counter_emission = counter_emission + 1"
   ]
  },
  {
   "cell_type": "markdown",
   "id": "fe168869",
   "metadata": {},
   "source": [
    "Realiza chamada no postgre para inserir as Emissoes"
   ]
  },
  {
   "cell_type": "code",
   "execution_count": 33,
   "id": "9765ae262388366e",
   "metadata": {
    "ExecuteTime": {
     "end_time": "2025-04-27T21:29:55.065815Z",
     "start_time": "2025-04-27T21:27:13.878393Z"
    }
   },
   "outputs": [],
   "source": [
    "Emissions = Base.classes.Emissions\n",
    "try:\n",
    "    session.bulk_insert_mappings(Emissions,data_emission)\n",
    "    session.commit()\n",
    "    data_emission = []\n",
    "except Exception as e:\n",
    "    print(\"Erro ao fazer bulk insert mappings dos Emissions : \", e)\n",
    "    session.rollback()"
   ]
  },
  {
   "cell_type": "markdown",
   "id": "e3bafcec457beedb",
   "metadata": {},
   "source": [
    "Insere Fertilizer_production"
   ]
  },
  {
   "cell_type": "code",
   "execution_count": null,
   "id": "83411c0100e0e583",
   "metadata": {
    "ExecuteTime": {
     "end_time": "2025-04-27T21:18:49.549287Z",
     "start_time": "2025-04-27T21:18:42.576867Z"
    }
   },
   "outputs": [
    {
     "name": "stderr",
     "output_type": "stream",
     "text": [
      "/tmp/ipykernel_14720/1227764859.py:2: DtypeWarning: Columns (12) have mixed types. Specify dtype option on import or set low_memory=False.\n",
      "  reader = pd.read_csv(input_path,\n"
     ]
    }
   ],
   "source": [
    "input_path = \"./data/fertilizers/fertilizers.csv\"\n",
    "reader = pd.read_csv(input_path,\n",
    "                     delimiter=',', skipinitialspace=True, encoding='latin1')\n",
    "\n",
    "data_fertilizer_production = []\n",
    "counter_fertilizer_production = 0\n",
    "\n",
    "for _,item in reader.iterrows():\n",
    "    if(item['Element Code'] == 5510):\n",
    "\n",
    "        data_fertilizer_production.append({'id_fertilizer_production' : counter_fertilizer_production, 'year':item['Year'], 'unit':item['Unit'], 'value':item['Value'], 'id_fertilizer':map_fertilizer_id[item['Item Code']], 'id_area':map_area[item['Area']]})\n",
    "        counter_fertilizer_production = counter_fertilizer_production + 1\n"
   ]
  },
  {
   "cell_type": "code",
   "execution_count": 35,
   "id": "772f1c23fcdbd882",
   "metadata": {
    "ExecuteTime": {
     "end_time": "2025-04-27T21:18:50.592567Z",
     "start_time": "2025-04-27T21:18:49.560370Z"
    }
   },
   "outputs": [],
   "source": [
    "Fertilizer_production = Base.classes.Fertilizer_production\n",
    "try:\n",
    "    session.bulk_insert_mappings(Fertilizer_production, data_fertilizer_production)\n",
    "    session.commit()\n",
    "    data_fertilizer_production = []\n",
    "except Exception as e:\n",
    "    print(\"Erro ao fazer bulk insert mappings dos Fertilizer : \", e)\n",
    "    session.rollback()"
   ]
  },
  {
   "cell_type": "markdown",
   "id": "f3f9c8e304952e85",
   "metadata": {},
   "source": [
    "Insere Use_per_Area"
   ]
  },
  {
   "cell_type": "code",
   "execution_count": null,
   "id": "5d79bd8ddd384f16",
   "metadata": {
    "ExecuteTime": {
     "end_time": "2025-04-27T21:18:57.544493Z",
     "start_time": "2025-04-27T21:18:50.603204Z"
    }
   },
   "outputs": [
    {
     "name": "stderr",
     "output_type": "stream",
     "text": [
      "/tmp/ipykernel_14720/4179709664.py:2: DtypeWarning: Columns (12) have mixed types. Specify dtype option on import or set low_memory=False.\n",
      "  reader = pd.read_csv(input_path,\n"
     ]
    }
   ],
   "source": [
    "input_path = \"./data/fertilizers/fertilizers.csv\"\n",
    "reader = pd.read_csv(input_path,\n",
    "                     delimiter=',', skipinitialspace=True, encoding='latin1')\n",
    "\n",
    "data_use_per_area = []\n",
    "counter_use_per_area = 0\n",
    "\n",
    "for _,item in reader.iterrows():\n",
    "    if(item['Element Code'] == 5159):\n",
    "\n",
    "        data_use_per_area.append({'id_use_per_area' : counter_use_per_area, 'year':item['Year'], 'unit':item['Unit'], 'value':item['Value'], 'id_fertilizer':map_fertilizer_id[item['Item Code']], 'id_area':map_area[item['Area']]})\n",
    "        counter_use_per_area = counter_use_per_area + 1\n"
   ]
  },
  {
   "cell_type": "code",
   "execution_count": 37,
   "id": "d622cef890318a04",
   "metadata": {
    "ExecuteTime": {
     "end_time": "2025-04-27T21:18:59.327830Z",
     "start_time": "2025-04-27T21:18:57.555494Z"
    }
   },
   "outputs": [],
   "source": [
    "Use_per_area = Base.classes.Use_per_area\n",
    "try:\n",
    "    session.bulk_insert_mappings(Use_per_area, data_use_per_area)\n",
    "    session.commit()\n",
    "    data_use_per_area = []\n",
    "except Exception as e:\n",
    "    print(\"Erro ao fazer bulk insert mappings dos Use_per_area : \", e)\n",
    "    session.rollback()"
   ]
  },
  {
   "cell_type": "markdown",
   "id": "1cfc822aa0f1baea",
   "metadata": {},
   "source": [
    "Insere Agriculture_use"
   ]
  },
  {
   "cell_type": "code",
   "execution_count": null,
   "id": "bcefd903fe6a6ab6",
   "metadata": {
    "ExecuteTime": {
     "end_time": "2025-04-27T21:19:06.597165Z",
     "start_time": "2025-04-27T21:18:59.338859Z"
    }
   },
   "outputs": [
    {
     "name": "stderr",
     "output_type": "stream",
     "text": [
      "/tmp/ipykernel_14720/2953839290.py:2: DtypeWarning: Columns (12) have mixed types. Specify dtype option on import or set low_memory=False.\n",
      "  reader = pd.read_csv(input_path,\n"
     ]
    }
   ],
   "source": [
    "input_path = \"./data/fertilizers/fertilizers.csv\"\n",
    "reader = pd.read_csv(input_path,\n",
    "                     delimiter=',', skipinitialspace=True, encoding='latin1')\n",
    "\n",
    "data_agriculture_use = []\n",
    "counter_agriculture_use = 0\n",
    "\n",
    "for _,item in reader.iterrows():\n",
    "    if(item['Element Code'] == 5157):\n",
    "        if(item['Year'] == 't' or map_fertilizer_id[item['Item Code']] == 't' or map_area[item['Area']] == 't'):\n",
    "            print(counter_agriculture_use)\n",
    "        data_agriculture_use.append({'id_agriculture_use' : counter_agriculture_use, 'year':item['Year'], 'unit':item['Unit'], 'value':item['Value'], 'id_fertilizer':map_fertilizer_id[item['Item Code']], 'id_area':map_area[item['Area']]})\n",
    "        counter_agriculture_use = counter_agriculture_use + 1\n"
   ]
  },
  {
   "cell_type": "code",
   "execution_count": 39,
   "id": "24377e9a6e4d5fde",
   "metadata": {
    "ExecuteTime": {
     "end_time": "2025-04-27T21:19:08.415385Z",
     "start_time": "2025-04-27T21:19:06.608316Z"
    }
   },
   "outputs": [],
   "source": [
    "Agriculture_use = Base.classes.Agriculture_use\n",
    "try:\n",
    "    session.bulk_insert_mappings(Agriculture_use, data_agriculture_use)\n",
    "    session.commit()\n",
    "    data_agriculture_use = []\n",
    "except Exception as e:\n",
    "    print(\"Erro ao fazer bulk insert mappings dos Agriculture_use : \", e)\n",
    "    session.rollback()"
   ]
  }
 ],
 "metadata": {
  "kernelspec": {
   "display_name": "banco",
   "language": "python",
   "name": "python3"
  },
  "language_info": {
   "codemirror_mode": {
    "name": "ipython",
    "version": 3
   },
   "file_extension": ".py",
   "mimetype": "text/x-python",
   "name": "python",
   "nbconvert_exporter": "python",
   "pygments_lexer": "ipython3",
   "version": "3.10.12"
  }
 },
 "nbformat": 4,
 "nbformat_minor": 5
}
